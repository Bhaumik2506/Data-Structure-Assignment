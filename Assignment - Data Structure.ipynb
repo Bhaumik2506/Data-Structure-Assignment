{
 "cells": [
  {
   "cell_type": "markdown",
   "metadata": {},
   "source": [
    "# ***Data Types and Data structures***\n",
    "### Q.1 - What are data structures, and why are they important?\n",
    "Answer - Data structure are specialized formats for organizing, stoting and accesing collections of data. Different data stuctures are used for storing different types data based on their purpose and characteristics.\n",
    "\n",
    "Importance of Data structure - \n",
    "\n",
    "(1) Correct selection can be significantly improves the impact and efficency of program.\n",
    "\n",
    "(2) Correct use of data structure can simplify the transformation and manuplation of data.\n",
    "\n",
    "(3) Helpful for memory usage managment.\n",
    "### Q.2 - Explain the difference between mutable and immutable data types with examples?\n",
    "Answer - 1. Mutable Data Types\n",
    "\n",
    "A mutable data type is one where the value or contents of the object can be changed after it is created. You can modify, add, or remove elements in the object.\n",
    "\n",
    "Examples of mutable data types in Python:\n",
    "\n",
    "Lists: You can change elements, add or remove elements in a list.\n",
    "\n",
    "Dictionaries: You can change values associated with keys, add or remove key-value pairs.\n",
    "\n",
    "Sets: You can add or remove elements in a set.\n",
    "\n",
    "2. Immutable Data Types\n",
    "\n",
    "An immutable data type is one where the value or contents of the object cannot be changed after it is created. Once the object is created, you cannot alter it.\n",
    "\n",
    "Examples of immutable data types in Python:\n",
    "\n",
    "Strings: Once created, you cannot change individual characters.\n",
    "\n",
    "Tuples: You cannot change elements of a tuple once it's created.\n",
    "\n",
    "Frozensets: These are like sets, but they are immutable.\n",
    "\n",
    "Integers: Numbers are immutable in Python.\n",
    "### Q.3 - What are the main differences between lists and tuples in Python?\n",
    "Answer - In Python, lists and tuples are both used to store collections of items, but they differ in key ways. Lists are mutable, meaning you can modify them after creation, while tuples are immutable, so their content cannot be changed. Lists have more built-in methods for manipulation, while tuples offer better performance and are used when data should remain constant or as dictionary keys.\n",
    "\n",
    "Differneces - \n",
    "\n",
    "1. List are mutable and tuples are immutable.\n",
    "\n",
    "2. Tuples are faster than compare to List.\n",
    "\n",
    "3. List are used for dynamic data wherin Tuples are used for fixed data.\n",
    "\n",
    "### Q.4 Describe how dictionaries store data?\n",
    "Answer - In Python, a dictionary is an unordered collection of key-value pairs. It stores data in such a way that each key is unique, and each key is associated with a value. Keys in dictionaries are Immutable and unique. values can be of any data type and mutable.\n",
    "\n",
    "### Q.5 Why might you use a set instead of a list in Python?\n",
    "Answer - We can use set instead of list in case where we want to store collection of unique data with no worries about data order.\n",
    "\n",
    "Sets automatically remove duplicate values and offer faster membership tests, making them ideal for situations where uniqueness and performance are more important than order.\n",
    "\n",
    "Reasons to Use a Set:\n",
    "\n",
    "Uniqueness: Sets do not allow duplicate values, so they automatically enforce uniqueness.\n",
    "\n",
    "Faster Lookups: Membership tests (e.g., x in set) are generally faster than lists due to the underlying hash table implementation.\n",
    "\n",
    "Set Operations: Sets support mathematical set operations like union, intersection, and difference, which are not directly available in lists.\n",
    "\n",
    "### Q.6 What is a string in Python, and how is it different from a list?\n",
    "Answer - A string in Python is a sequence of characters enclosed in either single (') or double (\") quotes. It is used to represent text data. Strings are immutable.\n",
    "\n",
    "A list, on the other hand, is a collection of elements that can be of any data type (e.g., numbers, strings, objects) and is mutable.\n",
    "\n",
    "Differences:\n",
    "\n",
    "Strings are immutable and lists are mutable.\n",
    "\n",
    "Strings can be used to store only text(Characters) wherein Lists can store multiple elements of any data type.\n",
    "\n",
    "### Q.7 How do tuples ensure data integrity in Python ?\n",
    "Answer - Tuples ensure data integrity in Python by being immutable, hashable, and maintaining order. These features prevent accidental modification, ensuring consistent and reliable data.\n",
    "### Q.8  What is a hash table, and how does it relate to dictionaries in Python?\n",
    "Answer - A hash table is like a super-fast filing system where you store things under keys. When you need to find something, the system uses the label to quickly point you to the right spot, making lookups super quick.\n",
    "\n",
    "In Python, dictionaries work the same way. They store data as key-value pairs, and Python uses a hash table to quickly find the value you want by its key. This makes dictionaries very fast for looking up, adding, or removing data.\n",
    "### Q.9 Can lists contain different data types in Python?\n",
    "Answer - Yes, lists in Python can contain different data types. A single list can store integers, strings, floats, and even other lists or objects.\n",
    "### Q.10  Explain why strings are immutable in Python?\n",
    "Answer - Strings are immutable in Python so that they are more memory-efficient and faster. When a string is created, it can’t be changed, which prevents unexpected changes in your code. This also allows Python to reuse the same string in multiple places without creating duplicates, improving performance. Additionally, immutability ensures that strings can be safely used as keys in dictionaries or in sets, where data integrity is crucial.\n",
    "### Q.11 What advantages do dictionaries offer over lists for certain tasks\n",
    "Answer - Dictionaries are better than lists when you need to quickly find things using a name (or \"key\") and store information in pairs (like a name and age). Here's a simple comparison:\n",
    "\n",
    "- Fast Lookups: You can quickly find values in a dictionary using keys. In a list, you have to search through all the items to find what you need.\n",
    "\n",
    "- Key-Value Storage: Dictionaries store things as pairs, like a name and age. Lists just store a bunch of things in order.\n",
    "\n",
    "So, use dictionaries when you need to quickly find something by a name or key, and lists when you just need to keep things in order.\n",
    "\n",
    "### Q.12 How do sets handle duplicate values in Python?\n",
    "Answer - In Python, sets automatically remove duplicate values. When you try to add a duplicate item to a set, it will simply be ignored. This is because sets only store unique elements.\n",
    "### Q.13 Describe a scenario where using a tuple would be preferable over a list?\n",
    "Answer -  A tuple is preferable over a list when you need an immutable collection of items, meaning the data should not change after it's created. Tuples are faster and more memory-efficient than lists because they are fixed-size.\n",
    "\n",
    "+ Imagine you're storing the date of birth (day, month, year) of someone. Once the date is set, it doesn't need to change. The date won't change, so you don’t need the flexibility of a list.\n",
    "### Q.14 How does the “in” keyword work differently for lists and dictionaries?\n",
    "Answer - \n",
    "1. For Lists:\n",
    "The \"in\" keyword checks whether a specific value exists in the list, and it looks through the entire list to find the value. It will return True if the value is found, and False if it's not.\n",
    "\n",
    "2. For Dictionaries:\n",
    "The \"in\" keyword, when used with a dictionary, checks if a specific key is present, not the value. By default, it checks only the keys, not the values or the key-value pairs.\n",
    "### Q.15 Can you modify the elements of a tuple? Explain why or why not?\n",
    "Answer - We cannot modify the elements of a tuple in Python because tuples are immutable. Once a tuple is created, its elements cannot be changed, added, or removed.Immutability means that after a tuple is created, we can't alter its contents. This makes tuples more efficient in terms of memory and speed compared to lists.Since tuples are immutable, we can't directly change their elements. If we need to make changes, we have to create a new tuple.\n",
    "\n",
    "\n",
    "\n",
    "\n",
    "### Q.16 What is a nested dictionary, and give an example of its use case?\n",
    "Answer - A nested dictionary is just a dictionary inside another dictionary. This helps us organize data that has multiple levels or details. For example, we can store information about people, where each person has different details like their name, age, and address.\n",
    "\n",
    "To store information about two students: their name, age, and the subjects they study.\n",
    "\n",
    "+ Nested dictionary\n",
    "\n",
    "students = {\"student1\": {\"name\": \"Bhaumik\",\"age\": 20,\"subjects\": [\"Math\", \"Physics\"]},\"student2\": {\"name\": \"Prayag\",\"age\": 22,\"subjects\": [\"Chemistry\", \"Biology\"]}}\n",
    "\n",
    "print(students[\"student1\"][\"name\"])  # Output: Bhaumik\n",
    "\n",
    "print(students[\"student2\"][\"age\"])   # Output: 22\n",
    "\n",
    "\n",
    "\n",
    "### Q.17 Describe the time complexity of accessing elements in a dictionary\n",
    "\n",
    "Answer - The time complexity of accessing elements in a dictionary is O(1), meaning it takes constant time to retrieve an element, regardless of the size of the dictionary.Accessing elements in a dictionary is generally O(1) because the dictionary uses a hash table to quickly find the value associated with a key.This makes dictionary lookups fast and efficient, regardless of the dictionary size.\n",
    "\n",
    "### Q.18 In what situations are lists preferred over dictionaries?\n",
    "Answer - Lists are preferred when you need an ordered collection of items or need to access elements by their position, without the need for key-value pairs.\n",
    "\n",
    "+ Order matters: Lists maintain the order of elements.\n",
    "+ Indexed access: Access elements by position (index).\n",
    "+ Simple collections: Store similar items without needing keys.\n",
    "+ Small collections: For simpler data structures without key-value pairing\n",
    "### Q.19 Why are dictionaries considered unordered, and how does that affect data retrieval?\n",
    "Answer - Dictionaries are considered unordered because they use a hash table to store key-value pairs. This allows for quick lookups, but it doesn't guarantee any specific order of the elements in memory. The key-value pairs are stored based on the hash of the keys, not in a sequential order.\n",
    "\n",
    "Although Python 3.7+ maintains the insertion order, dictionaries are still designed for fast access by key, not for preserving order. So, while order is preserved in modern Python versions, it should not be relied upon for data retrieval, as the primary purpose of dictionaries is to access data efficiently using keys.\n",
    "### Q.20 Explain the difference between a list and a dictionary in terms of data retrieval?\n",
    "Answer - When comparing lists and dictionaries in terms of data retrieval, the key difference lies in how they store and access data. Lists are ordered collections that use indexes to retrieve data, while dictionaries store data as key-value pairs and use keys to access values.\n",
    "\n",
    "1. Data Structure:\n",
    "List: Stores data in a sequential order.\n",
    "Dictionary: Stores data as key-value pairs.\n",
    "\n",
    "\n",
    "2. Access Method:\n",
    "List: Data is accessed using an index (position in the list).\n",
    "Dictionary: Data is accessed using a key (unique identifier).\n",
    "\n",
    "\n",
    "3. Order:\n",
    "List: Order of elements is important and is preserved.\n",
    "Dictionary: In Python 3.7+, order is preserved, but the primary focus is fast lookups by key.\n",
    "\n",
    "\n",
    "4. Use Case:\n",
    "List: Best for ordered collections or when you need to access items by position.\n",
    "Dictionary: Best for storing key-value pairs where each value is associated with a unique key.\n",
    "\n",
    "\n",
    "+ List Syntax\n",
    "List example\n",
    "fruits = [\"apple\", \"banana\", \"cherry\"]\n",
    "Accessing an element by index\n",
    "print(fruits[1])  # Output: banana\n",
    "\n",
    "\n",
    "+ Dictionary Syntax\n",
    "Dictionary example\n",
    "student = {\"name\": \"Bhaumik\", \"age\": 20}\n",
    "Accessing a value by key\n",
    "print(student[\"name\"])  # Output: Bhaumik"
   ]
  },
  {
   "cell_type": "markdown",
   "metadata": {},
   "source": [
    "# ***Practical Questions*** ###"
   ]
  },
  {
   "cell_type": "code",
   "execution_count": 2,
   "metadata": {},
   "outputs": [
    {
     "name": "stdout",
     "output_type": "stream",
     "text": [
      "Bhaumik\n"
     ]
    }
   ],
   "source": [
    "# Q.1  Write a code to create a string with your name and print it.\n",
    "B = \"Bhaumik\"\n",
    "print(B)"
   ]
  },
  {
   "cell_type": "code",
   "execution_count": 4,
   "metadata": {},
   "outputs": [
    {
     "data": {
      "text/plain": [
       "11"
      ]
     },
     "execution_count": 4,
     "metadata": {},
     "output_type": "execute_result"
    }
   ],
   "source": [
    "# Q.2 Write a code to find the length of the string \"Hello World\".\n",
    "H = \"Hello World\"\n",
    "len(H)"
   ]
  },
  {
   "cell_type": "code",
   "execution_count": 5,
   "metadata": {},
   "outputs": [
    {
     "name": "stdout",
     "output_type": "stream",
     "text": [
      "Pyt\n"
     ]
    }
   ],
   "source": [
    "# Q.3 Write a code to slice the first 3 characters from the string \"Python Programming\".\n",
    "P = \"Python Programming\"\n",
    "print(P[:3])"
   ]
  },
  {
   "cell_type": "code",
   "execution_count": 6,
   "metadata": {},
   "outputs": [
    {
     "data": {
      "text/plain": [
       "'HELLO'"
      ]
     },
     "execution_count": 6,
     "metadata": {},
     "output_type": "execute_result"
    }
   ],
   "source": [
    "# Q.4 Write a code to convert the string \"hello\" to uppercase.\n",
    "h = \"hello\"\n",
    "h.upper()"
   ]
  },
  {
   "cell_type": "code",
   "execution_count": 7,
   "metadata": {},
   "outputs": [
    {
     "data": {
      "text/plain": [
       "'I like orange'"
      ]
     },
     "execution_count": 7,
     "metadata": {},
     "output_type": "execute_result"
    }
   ],
   "source": [
    "# Q.5 Write a code to replace the word \"apple\" with \"orange\" in the string \"I like apple\".\n",
    "I = \"I like apple\"\n",
    "I.replace(\"apple\",\"orange\")"
   ]
  },
  {
   "cell_type": "code",
   "execution_count": 42,
   "metadata": {},
   "outputs": [
    {
     "name": "stdout",
     "output_type": "stream",
     "text": [
      "[1, 2, 3, 4, 5]\n"
     ]
    },
    {
     "data": {
      "text/plain": [
       "list"
      ]
     },
     "execution_count": 42,
     "metadata": {},
     "output_type": "execute_result"
    }
   ],
   "source": [
    "# Q.6 Write a code to create a list with numbers 1 to 5 and print it.\n",
    "List_1 = list(range(1,6))\n",
    "print(List_1)\n",
    "type(List_1)"
   ]
  },
  {
   "cell_type": "code",
   "execution_count": 16,
   "metadata": {},
   "outputs": [
    {
     "data": {
      "text/plain": [
       "[1, 2, 3, 4, 10]"
      ]
     },
     "execution_count": 16,
     "metadata": {},
     "output_type": "execute_result"
    }
   ],
   "source": [
    "# Q.7 Write a code to append the number 10 to the list [1, 2, 3, 4].\n",
    "List_2 = [1,2,3,4]\n",
    "List_2.append(10)\n",
    "List_2\n"
   ]
  },
  {
   "cell_type": "code",
   "execution_count": 19,
   "metadata": {},
   "outputs": [
    {
     "data": {
      "text/plain": [
       "[1, 2, 4, 5]"
      ]
     },
     "execution_count": 19,
     "metadata": {},
     "output_type": "execute_result"
    }
   ],
   "source": [
    "# Q.8 Write a code to remove the number 3 from the list [1, 2, 3, 4, 5].\n",
    "List_3 = [1, 2, 3, 4, 5]\n",
    "List_3.remove(3)\n",
    "List_3"
   ]
  },
  {
   "cell_type": "code",
   "execution_count": 22,
   "metadata": {},
   "outputs": [
    {
     "data": {
      "text/plain": [
       "'b'"
      ]
     },
     "execution_count": 22,
     "metadata": {},
     "output_type": "execute_result"
    }
   ],
   "source": [
    "# Q.9 Write a code to access the second element in the list ['a', 'b', 'c', 'd'].\n",
    "List_4 = ['a', 'b', 'c', 'd']\n",
    "List_4[1]"
   ]
  },
  {
   "cell_type": "code",
   "execution_count": 35,
   "metadata": {},
   "outputs": [
    {
     "name": "stdout",
     "output_type": "stream",
     "text": [
      "[50, 40, 30, 20, 10]\n"
     ]
    },
    {
     "data": {
      "text/plain": [
       "[50, 40, 30, 20, 10]"
      ]
     },
     "execution_count": 35,
     "metadata": {},
     "output_type": "execute_result"
    }
   ],
   "source": [
    "# Q.10 Write a code to reverse the list [10, 20, 30, 40, 50].\n",
    "List_5 = [10, 20, 30, 40, 50]\n",
    "print(List_5[::-1])\n",
    "List_5 = [10, 20, 30, 40, 50]\n",
    "List_5.sort(reverse=True)\n",
    "List_5\n"
   ]
  },
  {
   "cell_type": "code",
   "execution_count": 41,
   "metadata": {},
   "outputs": [
    {
     "name": "stdout",
     "output_type": "stream",
     "text": [
      "(100, 200, 300)\n"
     ]
    },
    {
     "data": {
      "text/plain": [
       "tuple"
      ]
     },
     "execution_count": 41,
     "metadata": {},
     "output_type": "execute_result"
    }
   ],
   "source": [
    "# Q.11 Write a code to create a tuple with the elements 100, 200, 300 and print it.\n",
    "Tuple_1 = (100,200,300)\n",
    "print(Tuple_1)\n",
    "type(Tuple_1)"
   ]
  },
  {
   "cell_type": "code",
   "execution_count": 47,
   "metadata": {},
   "outputs": [
    {
     "data": {
      "text/plain": [
       "'blue'"
      ]
     },
     "execution_count": 47,
     "metadata": {},
     "output_type": "execute_result"
    }
   ],
   "source": [
    "# Q.12 Write a code to access the second-to-last element of the tuple ('red', 'green', 'blue', 'yellow').\n",
    "Tuple_2 = ('red', 'green', 'blue', 'yellow')\n",
    "Tuple_2[2]"
   ]
  },
  {
   "cell_type": "code",
   "execution_count": 50,
   "metadata": {},
   "outputs": [
    {
     "data": {
      "text/plain": [
       "5"
      ]
     },
     "execution_count": 50,
     "metadata": {},
     "output_type": "execute_result"
    }
   ],
   "source": [
    "# Q.13 Write a code to find the minimum number in the tuple (10, 20, 5, 15).\n",
    "Tuple_3 = (10, 20, 5, 15)\n",
    "min(Tuple_3)"
   ]
  },
  {
   "cell_type": "code",
   "execution_count": 52,
   "metadata": {},
   "outputs": [
    {
     "data": {
      "text/plain": [
       "1"
      ]
     },
     "execution_count": 52,
     "metadata": {},
     "output_type": "execute_result"
    }
   ],
   "source": [
    "# Q.14 Write a code to find the index of the element \"cat\" in the tuple ('dog', 'cat', 'rabbit').\n",
    "Tuple_4 = ('dog', 'cat', 'rabbit')\n",
    "Tuple_4.index(\"cat\")"
   ]
  },
  {
   "cell_type": "code",
   "execution_count": 57,
   "metadata": {},
   "outputs": [
    {
     "data": {
      "text/plain": [
       "False"
      ]
     },
     "execution_count": 57,
     "metadata": {},
     "output_type": "execute_result"
    }
   ],
   "source": [
    "# Q.15 Write a code to create a tuple containing three different fruits and check if \"kiwi\" is in it.\n",
    "Tuple_5 = (\"Apple\",\"Orange\",\"Grapes\")\n",
    "\"kiwi\" in Tuple_5"
   ]
  },
  {
   "cell_type": "code",
   "execution_count": 59,
   "metadata": {},
   "outputs": [
    {
     "name": "stdout",
     "output_type": "stream",
     "text": [
      "{'a', 'c', 'b'}\n",
      "<class 'set'>\n"
     ]
    }
   ],
   "source": [
    "# Q.16 Write a code to create a set with the elements 'a', 'b', 'c' and print it.\n",
    "Set_1 = {'a', 'b', 'c'}\n",
    "print(Set_1)\n",
    "print(type(Set_1))"
   ]
  },
  {
   "cell_type": "code",
   "execution_count": null,
   "metadata": {},
   "outputs": [
    {
     "name": "stdout",
     "output_type": "stream",
     "text": [
      "set()\n",
      "<class 'set'>\n"
     ]
    }
   ],
   "source": [
    "# Q.17 Write a code to clear all elements from the set {1, 2, 3, 4, 5}.\n",
    "Set_2 = {1, 2, 3, 4, 5}\n",
    "Set_2.clear()\n",
    "print(Set_2)"
   ]
  },
  {
   "cell_type": "code",
   "execution_count": 70,
   "metadata": {},
   "outputs": [
    {
     "name": "stdout",
     "output_type": "stream",
     "text": [
      "{1, 2, 4}\n"
     ]
    }
   ],
   "source": [
    "# Q.18 Write a code to remove the element 4 from the set {1, 2, 3, 4}.\n",
    "Set_3 = {1, 2, 3, 4}\n",
    "Set_3.remove(3)\n",
    "print(Set_3)"
   ]
  },
  {
   "cell_type": "code",
   "execution_count": 72,
   "metadata": {},
   "outputs": [
    {
     "name": "stdout",
     "output_type": "stream",
     "text": [
      "{1, 2, 3, 4, 5}\n"
     ]
    }
   ],
   "source": [
    "# Q.19 Write a code to find the union of two sets {1, 2, 3} and {3, 4, 5}.\n",
    "Set_4 = {1,2,3}\n",
    "Set_5 = {3,4,5}\n",
    "print(Set_4 | Set_5)\n"
   ]
  },
  {
   "cell_type": "code",
   "execution_count": 75,
   "metadata": {},
   "outputs": [
    {
     "name": "stdout",
     "output_type": "stream",
     "text": [
      "{2, 3}\n"
     ]
    }
   ],
   "source": [
    "# Q.20 Write a code to find the intersection of two sets {1, 2, 3} and {2, 3, 4}.\n",
    "Set_6 = {1,2,3}\n",
    "Set_7 = {2,3,4}\n",
    "print(Set_6 & Set_7)\n"
   ]
  },
  {
   "cell_type": "code",
   "execution_count": 80,
   "metadata": {},
   "outputs": [
    {
     "data": {
      "text/plain": [
       "dict"
      ]
     },
     "execution_count": 80,
     "metadata": {},
     "output_type": "execute_result"
    }
   ],
   "source": [
    "# Q.21  Write a code to create a dictionary with the keys \"name\", \"age\", and \"city\", and print it.\n",
    "Dict_1 = { \"name\":\"bhaumik\" , \"age\":\"22\" , \"city\":\"mumbai\"}\n",
    "type(Dict_1)"
   ]
  },
  {
   "cell_type": "code",
   "execution_count": 83,
   "metadata": {},
   "outputs": [
    {
     "name": "stdout",
     "output_type": "stream",
     "text": [
      "{'name': 'John', 'age': 25, 'Country': 'USA'}\n"
     ]
    }
   ],
   "source": [
    "# Q.22. Write a code to add a new key-value pair \"country\": \"USA\" to the dictionary {'name': 'John', 'age': 25}.\n",
    "Dict_2 = {'name': 'John', 'age': 25}\n",
    "Dict_2.update({'Country':'USA'})\n",
    "print(Dict_2)"
   ]
  },
  {
   "cell_type": "code",
   "execution_count": 88,
   "metadata": {},
   "outputs": [
    {
     "data": {
      "text/plain": [
       "'Alice'"
      ]
     },
     "execution_count": 88,
     "metadata": {},
     "output_type": "execute_result"
    }
   ],
   "source": [
    "# Q.23. Write a code to access the value associated with the key \"name\" in the dictionary {'name': 'Alice', 'age': 30}.\n",
    "Dict_3 = {'name': 'Alice', 'age': 30}\n",
    "Dict_3['name']"
   ]
  },
  {
   "cell_type": "code",
   "execution_count": null,
   "metadata": {},
   "outputs": [
    {
     "name": "stdout",
     "output_type": "stream",
     "text": [
      "{'name': 'Bob', 'city': 'New York'}\n"
     ]
    }
   ],
   "source": [
    "# Q.24. Write a code to remove the key \"age\" from the dictionary {'name': 'Bob', 'age': 22, 'city': 'New York'}.   \n",
    "Dict_4 = {'name': 'Bob', 'age': 22, 'city': 'New York'}\n",
    "Dict_4.pop('age')\n",
    "print(Dict_4)"
   ]
  },
  {
   "cell_type": "code",
   "execution_count": null,
   "metadata": {},
   "outputs": [
    {
     "data": {
      "text/plain": [
       "True"
      ]
     },
     "execution_count": 93,
     "metadata": {},
     "output_type": "execute_result"
    }
   ],
   "source": [
    "# Q.25. Write a code to check if the key \"city\" exists in the dictionary {'name': 'Alice', 'city': 'Paris'}.\n",
    "Dict_5 = {'name': 'Alice', 'city': 'Paris'}\n",
    "\"city\" in Dict_5\n"
   ]
  },
  {
   "cell_type": "code",
   "execution_count": 100,
   "metadata": {},
   "outputs": [
    {
     "name": "stdout",
     "output_type": "stream",
     "text": [
      "['bhaumik', 1, 2, 3]\n",
      "<class 'list'>\n",
      "('bhaumik', 1, 2, 3)\n",
      "<class 'tuple'>\n",
      "{'name': 'bhaumik', 'age': 22}\n",
      "<class 'dict'>\n"
     ]
    }
   ],
   "source": [
    "# Q.26. Write a code to create a list, a tuple, and a dictionary, and print them all.\n",
    "List_6 = [\"bhaumik\" , 1 ,2,3]\n",
    "print(List_6)\n",
    "print(type(List_6))\n",
    "Tuple_6 = (\"bhaumik\" , 1 ,2,3)\n",
    "print(Tuple_6)\n",
    "print(type(Tuple_6))\n",
    "Dict_6 = {\"name\":\"bhaumik\",\"age\":22}\n",
    "print(Dict_6)\n",
    "print(type(Dict_6))"
   ]
  },
  {
   "cell_type": "code",
   "execution_count": 115,
   "metadata": {},
   "outputs": [
    {
     "name": "stdout",
     "output_type": "stream",
     "text": [
      "[12, 25, 41, 44, 95]\n"
     ]
    }
   ],
   "source": [
    "# Q.27. Write a code to create a list of 5 random numbers between 1 and 100, sort it in ascending order, and print the result.(replaced).\n",
    "List_7 = [12,41,25,95,44]\n",
    "List_7.sort()\n",
    "print(List_7)"
   ]
  },
  {
   "cell_type": "code",
   "execution_count": 116,
   "metadata": {},
   "outputs": [
    {
     "data": {
      "text/plain": [
       "'Rohan'"
      ]
     },
     "execution_count": 116,
     "metadata": {},
     "output_type": "execute_result"
    }
   ],
   "source": [
    "# Q.28. Write a code to create a list with strings and print the element at the third index.\n",
    "List_8 = [\"Bhaumik\" , \"Prayag\" , \"Rohan\"]\n",
    "List_8[2]"
   ]
  },
  {
   "cell_type": "code",
   "execution_count": 120,
   "metadata": {},
   "outputs": [
    {
     "name": "stdout",
     "output_type": "stream",
     "text": [
      "{'Name': 'Bhaumik', 'Age': 22}\n"
     ]
    }
   ],
   "source": [
    "# Q.29. Write a code to combine two dictionaries into one and print the result.\n",
    "Dict_7 = {\"Name\":\"Bhaumik\"}\n",
    "Dict_8 = {\"Age\":22}\n",
    "Dict_7.update(Dict_8)\n",
    "print(Dict_7)"
   ]
  },
  {
   "cell_type": "code",
   "execution_count": 124,
   "metadata": {},
   "outputs": [
    {
     "name": "stdout",
     "output_type": "stream",
     "text": [
      "{'Bhaumik', 'Prayag', 'Rohan'}\n",
      "<class 'set'>\n"
     ]
    }
   ],
   "source": [
    "# Q.30. Write a code to convert a list of strings into a set.\n",
    "List_9 = [\"Bhaumik\" , \"Prayag\" , \"Rohan\"]\n",
    "Set_8 = set(List_9)\n",
    "print(Set_8)\n",
    "print(type(Set_8))"
   ]
  }
 ],
 "metadata": {
  "kernelspec": {
   "display_name": "Python 3",
   "language": "python",
   "name": "python3"
  },
  "language_info": {
   "codemirror_mode": {
    "name": "ipython",
    "version": 3
   },
   "file_extension": ".py",
   "mimetype": "text/x-python",
   "name": "python",
   "nbconvert_exporter": "python",
   "pygments_lexer": "ipython3",
   "version": "3.13.2"
  }
 },
 "nbformat": 4,
 "nbformat_minor": 2
}
